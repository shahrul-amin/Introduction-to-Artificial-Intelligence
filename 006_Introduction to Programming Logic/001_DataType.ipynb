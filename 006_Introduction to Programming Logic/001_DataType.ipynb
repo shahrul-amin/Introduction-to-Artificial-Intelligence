{
 "cells": [
  {
   "cell_type": "markdown",
   "metadata": {
    "id": "JPOfGW_b4-Wz"
   },
   "source": [
    "# Scalar Data Types - Single Value\n",
    "\n",
    "* Integer\n",
    "* Float\n",
    "* Complex\n",
    "* Boolean\n",
    "* NoneType\n",
    "* (String is non-scalar in Python)"
   ]
  },
  {
   "cell_type": "code",
   "execution_count": 1,
   "metadata": {
    "id": "AkHpKwopoBNs"
   },
   "outputs": [],
   "source": [
    "coeff=\"Sara\""
   ]
  },
  {
   "cell_type": "markdown",
   "metadata": {
    "id": "js_DsyaT4-Wx"
   },
   "source": [
    "## Objects, Data Types, and Expressions\n",
    "\n",
    "* Computer programs manipulate objects\n",
    "* Objects have types\n",
    "  * Scalar —  single value such as 5, 3.14, or 'Bob'.\n",
    "  * Non-scalar — multiple values (Sequence and no sequence)\n",
    "* Expressions combine objects and operators"
   ]
  },
  {
   "cell_type": "code",
   "execution_count": 2,
   "metadata": {
    "colab": {
     "base_uri": "https://localhost:8080/"
    },
    "executionInfo": {
     "elapsed": 2,
     "status": "ok",
     "timestamp": 1679561105997,
     "user": {
      "displayName": "Mahdi Norouzi",
      "userId": "07836438151054565824"
     },
     "user_tz": 240
    },
    "id": "WanZkqcOoKil",
    "outputId": "15b9a742-4aba-417d-8d67-6de9d2860807"
   },
   "outputs": [
    {
     "data": {
      "text/plain": [
       "str"
      ]
     },
     "execution_count": 2,
     "metadata": {},
     "output_type": "execute_result"
    }
   ],
   "source": [
    "type(coeff)"
   ]
  },
  {
   "cell_type": "code",
   "execution_count": 3,
   "metadata": {
    "colab": {
     "base_uri": "https://localhost:8080/"
    },
    "id": "9LacF-Kz4-Wz",
    "outputId": "5f55318f-dd00-443a-cfaa-fbf4104ce284"
   },
   "outputs": [
    {
     "name": "stdout",
     "output_type": "stream",
     "text": [
      "<class 'int'>\n",
      "<class 'float'>\n",
      "<class 'complex'>\n",
      "<class 'bool'>\n",
      "<class 'bool'>\n",
      "<class 'NoneType'>\n",
      "<class 'str'>\n"
     ]
    }
   ],
   "source": [
    "print(type(2))\n",
    "print(type(1.125))\n",
    "print(type(2+6j))\n",
    "print(type(True))\n",
    "print(type(False))\n",
    "print(type(None))\n",
    "print(type('a'))"
   ]
  },
  {
   "cell_type": "code",
   "execution_count": 4,
   "metadata": {
    "colab": {
     "base_uri": "https://localhost:8080/"
    },
    "executionInfo": {
     "elapsed": 3,
     "status": "ok",
     "timestamp": 1679561186525,
     "user": {
      "displayName": "Mahdi Norouzi",
      "userId": "07836438151054565824"
     },
     "user_tz": 240
    },
    "id": "zd63gZqvpZ3G",
    "outputId": "17e51061-9b87-4429-ab85-21c640577117"
   },
   "outputs": [
    {
     "data": {
      "text/plain": [
       "True"
      ]
     },
     "execution_count": 4,
     "metadata": {},
     "output_type": "execute_result"
    }
   ],
   "source": [
    "True"
   ]
  },
  {
   "cell_type": "markdown",
   "metadata": {
    "id": "Fy4Up7kh4-W5"
   },
   "source": [
    "## Converting between Scalar Data Types\n",
    "\n",
    "* Use the name of a type to convert values to that type"
   ]
  },
  {
   "cell_type": "code",
   "execution_count": 5,
   "metadata": {
    "colab": {
     "base_uri": "https://localhost:8080/"
    },
    "id": "5CmwIm0l4-W6",
    "outputId": "065c1b95-9637-473f-e3f6-005cf4391a9e"
   },
   "outputs": [
    {
     "name": "stdout",
     "output_type": "stream",
     "text": [
      "<class 'float'> <class 'int'>\n",
      "123.0\n"
     ]
    }
   ],
   "source": [
    "a = float(123)\n",
    "b = int('32')\n",
    "print (type(a),type(b))\n",
    "print(a)"
   ]
  },
  {
   "cell_type": "markdown",
   "metadata": {
    "id": "RIhjIsJu4-XA"
   },
   "source": [
    "## Operators\n",
    "\n",
    "\n",
    "* Arithmetic\n",
    "* Boolean\n",
    "* Comparison\n",
    "* Assignment\n",
    "* Membership"
   ]
  },
  {
   "cell_type": "markdown",
   "metadata": {
    "id": "ZGjaS4734-XB"
   },
   "source": [
    "### Arithmetic Operators\n",
    "\n",
    "* `+` &nbsp;&nbsp; addition\n",
    "* `-` &nbsp;&nbsp; subtraction\n",
    "* `*` &nbsp;&nbsp; multiplication\n",
    "* `/` &nbsp;&nbsp; division\n",
    "* `%` &nbsp;&nbsp; modulus\n",
    "* `//` &nbsp;&nbsp; floor division\n",
    "* `**` &nbsp;&nbsp; exponent"
   ]
  },
  {
   "cell_type": "code",
   "execution_count": 6,
   "metadata": {
    "colab": {
     "base_uri": "https://localhost:8080/"
    },
    "executionInfo": {
     "elapsed": 352,
     "status": "ok",
     "timestamp": 1710223012204,
     "user": {
      "displayName": "Mahdi Norouzi",
      "userId": "07836438151054565824"
     },
     "user_tz": 240
    },
    "id": "ezgLyXQpqEZE",
    "outputId": "f8265abd-cc0f-4244-f834-932efbdf91f3"
   },
   "outputs": [
    {
     "data": {
      "text/plain": [
       "121"
      ]
     },
     "execution_count": 6,
     "metadata": {},
     "output_type": "execute_result"
    }
   ],
   "source": [
    "11**2"
   ]
  },
  {
   "cell_type": "code",
   "execution_count": 7,
   "metadata": {
    "id": "kgcDNXUJ4-XC",
    "outputId": "13e5af0e-05de-4e96-8623-6d60fad809ea"
   },
   "outputs": [
    {
     "name": "stdout",
     "output_type": "stream",
     "text": [
      "4\n",
      "abc\n",
      "6\n",
      "aaah!\n"
     ]
    }
   ],
   "source": [
    "# + and * have different meanings depending on the types of objects with which they are used\n",
    "print(2+2)\n",
    "print('a'+'bc')\n",
    "print(3*2)\n",
    "print(3*'a'+'h!')"
   ]
  },
  {
   "cell_type": "markdown",
   "metadata": {
    "id": "xXCDO3Kh4-XH"
   },
   "source": [
    "### Boolean Operators\n",
    "\n",
    "* `and`\n",
    "* `or`\n",
    "* `not`"
   ]
  },
  {
   "cell_type": "code",
   "execution_count": 8,
   "metadata": {
    "id": "Fvs9ot9f4-XI",
    "outputId": "72a7bca8-b270-49d0-b560-7d120a4c90e6"
   },
   "outputs": [
    {
     "name": "stdout",
     "output_type": "stream",
     "text": [
      "False\n",
      "True\n",
      "True\n"
     ]
    }
   ],
   "source": [
    "print(True and False)\n",
    "print(True or False)\n",
    "print(not False)"
   ]
  },
  {
   "cell_type": "markdown",
   "metadata": {
    "id": "9PVu_ldW4-XN"
   },
   "source": [
    "### Comparison Operators\n",
    "\n",
    "* `==` &nbsp;&nbsp; equals\n",
    "* `!=` &nbsp;&nbsp; does not equal\n",
    "* `>` &nbsp;&nbsp; is greater than\n",
    "* `<=` &nbsp;&nbsp; is less than or equal, etc."
   ]
  },
  {
   "cell_type": "code",
   "execution_count": 9,
   "metadata": {
    "colab": {
     "base_uri": "https://localhost:8080/"
    },
    "executionInfo": {
     "elapsed": 3,
     "status": "ok",
     "timestamp": 1679561523618,
     "user": {
      "displayName": "Mahdi Norouzi",
      "userId": "07836438151054565824"
     },
     "user_tz": 240
    },
    "id": "7K-1f3UtquW3",
    "outputId": "0b67ae9a-6cfa-43c8-c12b-cbced93906c4"
   },
   "outputs": [
    {
     "data": {
      "text/plain": [
       "False"
      ]
     },
     "execution_count": 9,
     "metadata": {},
     "output_type": "execute_result"
    }
   ],
   "source": [
    "2==5"
   ]
  },
  {
   "cell_type": "code",
   "execution_count": 10,
   "metadata": {
    "colab": {
     "base_uri": "https://localhost:8080/"
    },
    "id": "sIY6retZj2-0",
    "outputId": "052453fe-e915-4051-9624-59f0c2cd0b02"
   },
   "outputs": [
    {
     "name": "stdout",
     "output_type": "stream",
     "text": [
      "True\n"
     ]
    }
   ],
   "source": [
    "a=2\n",
    "print (a>0 and a<10)"
   ]
  },
  {
   "cell_type": "markdown",
   "metadata": {
    "id": "HSwGeyC84-XO"
   },
   "source": [
    "### Assignment Operators\n",
    "\n",
    "* `=` &nbsp;&nbsp; assign right operand to left operand\n",
    "* `+=` &nbsp;&nbsp; add right operand to left operand and assign to left operand\n",
    "* `-=` &nbsp;&nbsp; subtract right operand from left operand and assign to left operand, etc."
   ]
  },
  {
   "cell_type": "code",
   "execution_count": 11,
   "metadata": {
    "colab": {
     "base_uri": "https://localhost:8080/"
    },
    "id": "bNoPBMqa4-XP",
    "outputId": "41b5ffa2-54df-40e7-cd33-2d3a65a2bf92"
   },
   "outputs": [
    {
     "name": "stdout",
     "output_type": "stream",
     "text": [
      "-1\n"
     ]
    }
   ],
   "source": [
    "a = 2\n",
    "a -=3 # Equivalent to a = a + 3\n",
    "print(a)"
   ]
  },
  {
   "cell_type": "markdown",
   "metadata": {
    "id": "18Q0hpat4-XV"
   },
   "source": [
    "### Comparison vs. Assignment Operators\n"
   ]
  },
  {
   "cell_type": "code",
   "execution_count": 12,
   "metadata": {
    "colab": {
     "base_uri": "https://localhost:8080/",
     "height": 36
    },
    "id": "YOheWCh-4-XW",
    "outputId": "677fcd5e-6796-4842-b67e-3cde459e73b4"
   },
   "outputs": [
    {
     "name": "stdout",
     "output_type": "stream",
     "text": [
      "False\n"
     ]
    }
   ],
   "source": [
    "a = 2 # This is assignment\n",
    "print(a==1) # This is test for equality. It returns bool."
   ]
  },
  {
   "cell_type": "markdown",
   "metadata": {
    "id": "X5wbPsuK4-Xa"
   },
   "source": [
    "### Membership Operators\n",
    "\n",
    "* `in` &nbsp;&nbsp; left element is in right sequence\n",
    "  "
   ]
  },
  {
   "cell_type": "code",
   "execution_count": 13,
   "metadata": {
    "colab": {
     "base_uri": "https://localhost:8080/"
    },
    "id": "V1chKk7D4-Xb",
    "outputId": "c957ae5c-3784-4c9d-c877-7ca05e80103a"
   },
   "outputs": [
    {
     "name": "stdout",
     "output_type": "stream",
     "text": [
      "True\n"
     ]
    }
   ],
   "source": [
    "print('x' not in 'abcdefg')"
   ]
  },
  {
   "cell_type": "code",
   "execution_count": 14,
   "metadata": {
    "colab": {
     "base_uri": "https://localhost:8080/"
    },
    "id": "PbQ0schxkyx8",
    "outputId": "0ce9bf16-880f-4b37-ed95-8daad3fb12ce"
   },
   "outputs": [
    {
     "name": "stdout",
     "output_type": "stream",
     "text": [
      "<class 'str'>\n"
     ]
    }
   ],
   "source": [
    "a=\"t\"\n",
    "print (type(a))"
   ]
  },
  {
   "cell_type": "markdown",
   "metadata": {
    "id": "Q1amFUKcaKu7"
   },
   "source": [
    "# Non-Scalar Data Types\n",
    "\n",
    "* List – a mutable ordered sequence of values\n",
    "* Tuple – an immutable ordered sequence of values\n",
    "* String – an immutable ordered sequence of characters\n",
    "* Set – a mutable unordered collection of unique values\n",
    "* Dictionary – a set of key/value pairs"
   ]
  },
  {
   "cell_type": "code",
   "execution_count": 15,
   "metadata": {
    "colab": {
     "base_uri": "https://localhost:8080/"
    },
    "id": "WkNYGFvkaKu9",
    "outputId": "b3aba767-23ae-4669-9be8-15d941319395"
   },
   "outputs": [
    {
     "name": "stdout",
     "output_type": "stream",
     "text": [
      "{1, 2, 'b', 'a'}\n"
     ]
    }
   ],
   "source": [
    "list_var = [1, 2, 2, 'a', 'a',[1,2]] # list\n",
    "tuple_var = (1, 2, 'a', 'b') # tuple\n",
    "set_var = {1 , 2, 2, 'a', 'b'} # set\n",
    "dict_var = {'A': 'a', 2: 'b', 3: 'c'} # dictionary\n",
    "print(set_var)"
   ]
  },
  {
   "cell_type": "code",
   "execution_count": 16,
   "metadata": {
    "id": "z0XJy1jvtJ-i"
   },
   "outputs": [],
   "source": [
    "dict_var = {'A': 'a', 2: 'b', 3: 'c'}"
   ]
  },
  {
   "cell_type": "code",
   "execution_count": 17,
   "metadata": {
    "colab": {
     "base_uri": "https://localhost:8080/",
     "height": 35
    },
    "executionInfo": {
     "elapsed": 381,
     "status": "ok",
     "timestamp": 1679562172488,
     "user": {
      "displayName": "Mahdi Norouzi",
      "userId": "07836438151054565824"
     },
     "user_tz": 240
    },
    "id": "xHGw37u1tLii",
    "outputId": "20e3e05f-fed2-494b-e473-17edd81d5d2b"
   },
   "outputs": [
    {
     "data": {
      "text/plain": [
       "'a'"
      ]
     },
     "execution_count": 17,
     "metadata": {},
     "output_type": "execute_result"
    }
   ],
   "source": [
    "dict_var[\"A\"]"
   ]
  },
  {
   "cell_type": "code",
   "execution_count": 18,
   "metadata": {
    "id": "PwqLHaQ1rb3v"
   },
   "outputs": [],
   "source": [
    "myfistlist2023=[1,4,\"Jack\", 4.5, [4,-1],0]"
   ]
  },
  {
   "cell_type": "code",
   "execution_count": 19,
   "metadata": {
    "colab": {
     "base_uri": "https://localhost:8080/"
    },
    "executionInfo": {
     "elapsed": 3,
     "status": "ok",
     "timestamp": 1679561773841,
     "user": {
      "displayName": "Mahdi Norouzi",
      "userId": "07836438151054565824"
     },
     "user_tz": 240
    },
    "id": "RqhOOlwvrqIV",
    "outputId": "98961075-091d-47f5-a7e6-96e0da22ab4a"
   },
   "outputs": [
    {
     "data": {
      "text/plain": [
       "list"
      ]
     },
     "execution_count": 19,
     "metadata": {},
     "output_type": "execute_result"
    }
   ],
   "source": [
    "type(myfistlist2023)"
   ]
  },
  {
   "cell_type": "code",
   "execution_count": 20,
   "metadata": {
    "colab": {
     "base_uri": "https://localhost:8080/"
    },
    "executionInfo": {
     "elapsed": 406,
     "status": "ok",
     "timestamp": 1679561857109,
     "user": {
      "displayName": "Mahdi Norouzi",
      "userId": "07836438151054565824"
     },
     "user_tz": 240
    },
    "id": "NNlTJ0lgrzE3",
    "outputId": "af942dd5-2aa6-404a-ca32-7769bca8332f"
   },
   "outputs": [
    {
     "data": {
      "text/plain": [
       "5"
      ]
     },
     "execution_count": 20,
     "metadata": {},
     "output_type": "execute_result"
    }
   ],
   "source": [
    "myfistlist2023[0]+myfistlist2023[1]"
   ]
  },
  {
   "cell_type": "code",
   "execution_count": 21,
   "metadata": {
    "id": "91-K0Ka0sMJm"
   },
   "outputs": [],
   "source": [
    "bb=[1,2,1,2,3,4,4]"
   ]
  },
  {
   "cell_type": "code",
   "execution_count": 22,
   "metadata": {
    "colab": {
     "base_uri": "https://localhost:8080/"
    },
    "executionInfo": {
     "elapsed": 482,
     "status": "ok",
     "timestamp": 1679562027385,
     "user": {
      "displayName": "Mahdi Norouzi",
      "userId": "07836438151054565824"
     },
     "user_tz": 240
    },
    "id": "i7lX2LpZsVeh",
    "outputId": "15ba6e20-7831-4ae7-d1bf-74b61388e003"
   },
   "outputs": [
    {
     "data": {
      "text/plain": [
       "[1, 2, 1, 2, 3, 4, 4]"
      ]
     },
     "execution_count": 22,
     "metadata": {},
     "output_type": "execute_result"
    }
   ],
   "source": [
    "bb"
   ]
  },
  {
   "cell_type": "code",
   "execution_count": 23,
   "metadata": {
    "colab": {
     "base_uri": "https://localhost:8080/"
    },
    "executionInfo": {
     "elapsed": 2,
     "status": "ok",
     "timestamp": 1679562061585,
     "user": {
      "displayName": "Mahdi Norouzi",
      "userId": "07836438151054565824"
     },
     "user_tz": 240
    },
    "id": "zuB6hlWDsrpD",
    "outputId": "9b8495ca-5799-49a6-ea00-b232e0c8fe28"
   },
   "outputs": [
    {
     "data": {
      "text/plain": [
       "[1, 2, 3, 4]"
      ]
     },
     "execution_count": 23,
     "metadata": {},
     "output_type": "execute_result"
    }
   ],
   "source": [
    "list(set(bb))"
   ]
  },
  {
   "cell_type": "code",
   "execution_count": 24,
   "metadata": {
    "id": "ZG51sg2Rsb4L"
   },
   "outputs": [],
   "source": [
    "bb={1,2,1,2,3,4,4}"
   ]
  },
  {
   "cell_type": "code",
   "execution_count": 25,
   "metadata": {
    "colab": {
     "base_uri": "https://localhost:8080/"
    },
    "executionInfo": {
     "elapsed": 377,
     "status": "ok",
     "timestamp": 1679562002224,
     "user": {
      "displayName": "Mahdi Norouzi",
      "userId": "07836438151054565824"
     },
     "user_tz": 240
    },
    "id": "8zgqFi9UsfhP",
    "outputId": "d8f8c50c-50f0-44c6-81a3-00fc66bf9adf"
   },
   "outputs": [
    {
     "data": {
      "text/plain": [
       "{1, 2, 3, 4}"
      ]
     },
     "execution_count": 25,
     "metadata": {},
     "output_type": "execute_result"
    }
   ],
   "source": [
    "bb"
   ]
  },
  {
   "cell_type": "markdown",
   "metadata": {
    "id": "E4pmbTtNaKvJ"
   },
   "source": [
    "## Converting between Non-Scalar Data Types\n",
    "\n",
    "* Use the name of a type to convert values to that type"
   ]
  },
  {
   "cell_type": "code",
   "execution_count": 26,
   "metadata": {
    "colab": {
     "base_uri": "https://localhost:8080/"
    },
    "id": "dqbDkqJ6aKvN",
    "outputId": "a3720700-a212-4b55-9020-d96f1dfee26c"
   },
   "outputs": [
    {
     "name": "stdout",
     "output_type": "stream",
     "text": [
      "(1, 2, 3) {1: 'a', 2: 'b', 3: 'c'} [1, 2, 3, 4] <class 'list'>\n"
     ]
    }
   ],
   "source": [
    "tup = tuple([1, 2, 3])\n",
    "dic = dict( [(1, 'a'), (2, 'b'), (3, 'c')] )\n",
    "ls1=list((1,2,3,4))\n",
    "print(tup, dic, ls1, type(ls1))"
   ]
  },
  {
   "cell_type": "markdown",
   "metadata": {
    "id": "0D7vbQr8aKvX"
   },
   "source": [
    "## Length of Non-Scalar Objects\n",
    "\n",
    "* The `len()` function returns the length of the element"
   ]
  },
  {
   "cell_type": "code",
   "execution_count": 27,
   "metadata": {
    "colab": {
     "base_uri": "https://localhost:8080/",
     "height": 91
    },
    "id": "TOH4iebLaKva",
    "outputId": "188ba9a3-c0b9-43dc-98a3-03020f86d250"
   },
   "outputs": [
    {
     "name": "stdout",
     "output_type": "stream",
     "text": [
      "3\n",
      "2\n",
      "5\n",
      "2\n"
     ]
    }
   ],
   "source": [
    "print( len( [0,1,2] ) )\n",
    "print( len('ab') )\n",
    "print( len( (1,2,3,4,'a') ) )\n",
    "print( len( {1:'a', 2:'b'} ) )"
   ]
  },
  {
   "cell_type": "markdown",
   "metadata": {
    "id": "mpJrjCFTaKvn"
   },
   "source": [
    "## Strings\n",
    "\n",
    "* You can write string literals in different ways\n",
    "  * Single quotes: `'allows embedded \"double\" quotes'`\n",
    "  * Double quotes: `\"allows embedded 'single' quotes\"`\n",
    "  * Triple quoted: `'''Three single quotes'''`, `\"\"\"Three double quotes\"\"\"`\n"
   ]
  },
  {
   "cell_type": "code",
   "execution_count": 28,
   "metadata": {
    "colab": {
     "base_uri": "https://localhost:8080/",
     "height": 36
    },
    "id": "oq5FslEBaKvp",
    "outputId": "d792cd11-68fe-4280-b96a-31ed7f0a7f3d"
   },
   "outputs": [
    {
     "data": {
      "text/plain": [
       "'Triple quoted strings may span multiple lines -\\nall associated whitespace will be included\\nin the string literal.'"
      ]
     },
     "execution_count": 28,
     "metadata": {},
     "output_type": "execute_result"
    }
   ],
   "source": [
    "'''Triple quoted strings may span multiple lines -\n",
    "all associated whitespace will be included\n",
    "in the string literal.'''"
   ]
  },
  {
   "cell_type": "markdown",
   "metadata": {
    "id": "mEFI2V_aaKv1"
   },
   "source": [
    "### Objects Have Methods Associated with Them\n",
    "\n",
    "### `object.method()`\n",
    "\n",
    "Use the period `.` to link the method to the object."
   ]
  },
  {
   "cell_type": "code",
   "execution_count": 29,
   "metadata": {
    "colab": {
     "base_uri": "https://localhost:8080/",
     "height": 36
    },
    "id": "6Ir5J7mFaKv4",
    "outputId": "48dfb02d-8680-4cb7-bf85-0e6ac98b86bc"
   },
   "outputs": [
    {
     "data": {
      "text/plain": [
       "'HELLO'"
      ]
     },
     "execution_count": 29,
     "metadata": {},
     "output_type": "execute_result"
    }
   ],
   "source": [
    "string1 = 'Hello'\n",
    "\n",
    "string1 + '!'   # This is an operator. Operators combine objects in expressions.\n",
    "len(string1)   # This is a function. Functions take objects as arguments.\n",
    "string1.upper()   # This is a method. Methods are attached to objects."
   ]
  },
  {
   "cell_type": "code",
   "execution_count": 30,
   "metadata": {
    "colab": {
     "base_uri": "https://localhost:8080/"
    },
    "id": "d5mt_u0vnnvd",
    "outputId": "e2cf80b0-b077-412f-8e12-7b9f0508932d"
   },
   "outputs": [
    {
     "name": "stdout",
     "output_type": "stream",
     "text": [
      "mahdi <class 'str'>\n",
      "MAHDI\n"
     ]
    }
   ],
   "source": [
    "word1=\"mahdi\"\n",
    "print(word1, type(word1))\n",
    "print(word1.upper())"
   ]
  },
  {
   "cell_type": "markdown",
   "metadata": {
    "id": "4nZKn4dsaKwC"
   },
   "source": [
    "### String Methods: Formatting\n",
    "\n",
    "* `S.upper()` – change to upper case\n",
    "* `S.lower()` – change to lower case\n",
    "* `S.capitalize()` – capitalize the first word\n",
    "* `S.find(S1)` – return the index of the first instance of input"
   ]
  },
  {
   "cell_type": "code",
   "execution_count": 31,
   "metadata": {
    "colab": {
     "base_uri": "https://localhost:8080/"
    },
    "id": "Xu6rro4baKwF",
    "outputId": "488b3ab8-34bd-47d6-e206-e37c66f7f7bb"
   },
   "outputs": [
    {
     "name": "stdout",
     "output_type": "stream",
     "text": [
      "MAKE ME SCREAM!\n",
      "MAKE ME SCREAM!\n",
      "Make this into a proper sentence. this is test.\n",
      "10\n"
     ]
    }
   ],
   "source": [
    "str1='Make me scream!'\n",
    "print(str1.upper())\n",
    "print('Make me scream!'.upper())\n",
    "x = 'make this into a proper sentence. this is test'\n",
    "print(x.capitalize()+'.')\n",
    "\n",
    "print('FInd the first \"i\" in this sentence.'.find('i'))\n"
   ]
  },
  {
   "cell_type": "markdown",
   "metadata": {
    "id": "zczEx2LmaKwN"
   },
   "source": [
    "### String Methods: `strip` and `replace`\n",
    "\n",
    "* `S.replace(S1, S2)` – find all instances of input1 and change to input2\n",
    "* `S.strip(S1)` – remove whitespace characters from a string (useful when reading in from a file)"
   ]
  },
  {
   "cell_type": "code",
   "execution_count": 32,
   "metadata": {
    "colab": {
     "base_uri": "https://localhost:8080/"
    },
    "executionInfo": {
     "elapsed": 1,
     "status": "ok",
     "timestamp": 1679562612122,
     "user": {
      "displayName": "Mahdi Norouzi",
      "userId": "07836438151054565824"
     },
     "user_tz": 240
    },
    "id": "CspnwQw2aKwO",
    "outputId": "ea0f155e-317f-4e8b-e05f-75cce12d8574"
   },
   "outputs": [
    {
     "name": "stdout",
     "output_type": "stream",
     "text": [
      " This is a long sentence that we will use as an example.\n",
      "\n",
      " ThiS iS a long Sentence that we will uSe aS an example.\n",
      "\n",
      "This is a long sentence that we will use as an example.\n",
      "Thisisalongsentencethatwewilluseasanexample.\n",
      "\n",
      " This is a long sentence that we will use as an example.\n",
      "\n",
      "This is a long sentence that we will use as an example.\n",
      "ThiSiSalongSentencethatwewilluSeaSanexample.\n"
     ]
    }
   ],
   "source": [
    "x = ' This is a long sentence that we will use as an example.\\n'\n",
    "print(x)\n",
    "print(x.replace('s', 'S'))\n",
    "print(x.strip())\n",
    "print(x.replace(' ', ''))\n",
    "\n",
    "\n",
    "print(x)\n",
    "x=x.strip()\n",
    "print(x)\n",
    "\n",
    "print(x.strip().replace('s',\"S\").replace(\" \", \"\"))"
   ]
  },
  {
   "cell_type": "markdown",
   "metadata": {
    "id": "O1FB8GpCaKwY"
   },
   "source": [
    "### String Methods: `split` and `join`\n",
    "\n",
    "* `S.split(S1)` – split the string into a list\n",
    "* `S.join(L)` – combine the input sequence into a single string"
   ]
  },
  {
   "cell_type": "code",
   "execution_count": null,
   "metadata": {
    "colab": {
     "base_uri": "https://localhost:8080/"
    },
    "id": "ckDOD6C7aKwa",
    "outputId": "0511d347-2abf-4606-fec1-e1e9518abdea"
   },
   "outputs": [
    {
     "name": "stdout",
     "output_type": "stream",
     "text": [
      "['this', 'is', 'a', 'collection', 'of', 'words', 'i', 'would', 'like', 'to', 'break', 'it', 'into', 'tokens']\n",
      "<class 'list'>\n",
      "['this is a c', 'llecti', 'n ', 'f w', 'rds i w', 'uld like t', ' break it int', ' t', 'kens']\n",
      "this-is-a-collection-of-words-i-would-like-to-break-it-into-tokens\n"
     ]
    }
   ],
   "source": [
    "x = 'this is a collection of words i would like to break it into tokens'\n",
    "y = x.split()    # default is to split on ' '\n",
    "print(y)\n",
    "print(type(y))\n",
    "print(x.split('o'))\n",
    "\n",
    "x_new = '-'.join(y)\n",
    "print(x_new)"
   ]
  },
  {
   "cell_type": "markdown",
   "metadata": {
    "id": "NorLpPo3aKwi"
   },
   "source": [
    "## Unordered Types vs. Sequences\n",
    "\n",
    "* Unordered types: `set`, `dict`\n",
    "* Ordered (sequence) types: `str`, `list`, `tuple`\n",
    "  "
   ]
  },
  {
   "cell_type": "code",
   "execution_count": null,
   "metadata": {
    "id": "2yrS57xOaKww",
    "outputId": "9e457fa8-8bda-41f8-9f07-d1280b40380b"
   },
   "outputs": [
    {
     "name": "stdout",
     "output_type": "stream",
     "text": [
      "{'b', 1, 2, 'a'}\n"
     ]
    }
   ],
   "source": [
    "st = {1, 2, 2, 'a', 'b'} # sets are unordered\n",
    "print(st)"
   ]
  },
  {
   "cell_type": "markdown",
   "metadata": {
    "id": "-bxqcXldaKw9"
   },
   "source": [
    "## Set Methods\n",
    "\n",
    "![Set operations](https://media.geeksforgeeks.org/wp-content/uploads/20240711100807/Set-operations.png \"Set operations\")\n",
    "\n",
    "* `S1.union(S2)`, `S1|S2` — elements in S1 or S2, or both\n",
    "* `S1.intersection(S2)`, `S1&S2` — elements in both S1 and S2\n",
    "* `S1.difference(S2)`, `S1-S2` — elements in S1 but not in S2\n",
    "* `S1.symmetric_difference(S2)`, `S1^S2` — elements in S1 or S2 but not both"
   ]
  },
  {
   "cell_type": "code",
   "execution_count": null,
   "metadata": {
    "colab": {
     "base_uri": "https://localhost:8080/"
    },
    "id": "3BFUcUrcaKw_",
    "outputId": "8d2a7cc4-452f-466e-f254-02fa124ad81e"
   },
   "outputs": [
    {
     "name": "stdout",
     "output_type": "stream",
     "text": [
      "{'y', 'h', 'i', 'l', 'o', 'p', 'm'}\n",
      "{'t', 'r', 'e', 'm'}\n"
     ]
    }
   ],
   "source": [
    "st1 = set('homophily')\n",
    "print (st1)\n",
    "st2 = set('heterophily')\n",
    "print(st1 ^ st2)"
   ]
  },
  {
   "cell_type": "markdown",
   "metadata": {
    "id": "PRV46Aj_aKxG"
   },
   "source": [
    "## Dictionary Operations: Indexing\n",
    "\n",
    "* Dictinaries are indexed by keys"
   ]
  },
  {
   "cell_type": "code",
   "execution_count": null,
   "metadata": {
    "colab": {
     "base_uri": "https://localhost:8080/"
    },
    "id": "587oeDdLaKxI",
    "outputId": "3106eaf6-e4ae-4eed-8a14-648740c071e8"
   },
   "outputs": [
    {
     "name": "stdout",
     "output_type": "stream",
     "text": [
      "astrophysicist\n",
      "dict_keys(['Howard', 'Leonard', 'Sheldon', 'Penny', 'Raj'])\n",
      "dict_values(['aerospace engineer', 'physicist', 'physicist', 'waitress', 'astrophysicist'])\n"
     ]
    }
   ],
   "source": [
    "mydic = {'Howard': 'aerospace engineer', 'Leonard': 'physicist', 'Sheldon': 'physicist',\n",
    "         'Penny': 'waitress', 'Raj': 'astrophysicist'}\n",
    "print(mydic['Raj'])\n",
    "print (mydic.keys())\n",
    "print (mydic.values())\n"
   ]
  },
  {
   "cell_type": "markdown",
   "metadata": {
    "id": "sMmDYhIgaKxQ"
   },
   "source": [
    "## Sequence Operations: Indexing\n",
    "\n",
    "* Lists, tuples, and strings are indexed by numbers"
   ]
  },
  {
   "cell_type": "code",
   "execution_count": null,
   "metadata": {
    "id": "VugGi9pKaKxS",
    "outputId": "2bde3c8f-7a79-4ea4-eabb-018d96756d05"
   },
   "outputs": [
    {
     "data": {
      "text/plain": [
       "'C'"
      ]
     },
     "execution_count": 21,
     "metadata": {
      "tags": []
     },
     "output_type": "execute_result"
    }
   ],
   "source": [
    "'ABCDEFG'[2]"
   ]
  },
  {
   "cell_type": "markdown",
   "metadata": {
    "id": "GI2Z70FQaKxb"
   },
   "source": [
    "### Indexing in Python starts from 0!\n",
    "\n",
    "![Indexing arrays](https://www.alphacodingskills.com/python/img/python-array.png \"Indexing arrays\")"
   ]
  },
  {
   "cell_type": "markdown",
   "metadata": {
    "id": "YGd9VfnraKxd"
   },
   "source": [
    "### Sequence Operations: Indexing\n",
    "\n",
    "* Use `elem[index]` to extract individual sub-elements"
   ]
  },
  {
   "cell_type": "code",
   "execution_count": 34,
   "metadata": {
    "colab": {
     "base_uri": "https://localhost:8080/",
     "height": 244
    },
    "id": "N8b9N_5EaKxf",
    "outputId": "37b76e9a-7258-498b-ef2d-a3cff077cc75"
   },
   "outputs": [
    {
     "name": "stdout",
     "output_type": "stream",
     "text": [
      "a\n",
      "2\n",
      "3\n"
     ]
    }
   ],
   "source": [
    "print( 'abc'[0] )\n",
    "print( (1,2,3)[-2]) # use negative numbers to index from the end\n",
    "print( [1,2,3][2])"
   ]
  },
  {
   "cell_type": "markdown",
   "metadata": {
    "id": "DzvNOpm1aKxn"
   },
   "source": [
    "### Sequence Operations: Slicing\n",
    "\n",
    "* Use `elem[start:end]` to get sub-sequence starting from index `start` and ending at index `end-1`"
   ]
  },
  {
   "cell_type": "code",
   "execution_count": null,
   "metadata": {
    "colab": {
     "base_uri": "https://localhost:8080/"
    },
    "id": "gSu-5QwaaKxq",
    "outputId": "30404cd6-21fc-4dd1-a0ba-c602aeab63d5",
    "scrolled": true
   },
   "outputs": [
    {
     "name": "stdout",
     "output_type": "stream",
     "text": [
      "[2, 3, 4]\n",
      "[1, 2, 3]\n",
      "[2, 3, 4, 5]\n",
      "True\n"
     ]
    }
   ],
   "source": [
    "ls = [1,2,3,4,5]\n",
    "print( ls[1:4] )\n",
    "print( ls[:3] )\n",
    "print( ls[1:] )\n",
    "\n",
    "print(ls[:]==ls[0:len(ls)])"
   ]
  },
  {
   "cell_type": "markdown",
   "metadata": {
    "id": "j18tPzdDaKxw"
   },
   "source": [
    "### Sequence Operations: Extended Slices\n",
    "\n",
    "* Use `elem[start:end:step]` to get sub-sequence starting from index `start`, in steps of `step`, ending at index `end-1`"
   ]
  },
  {
   "cell_type": "code",
   "execution_count": null,
   "metadata": {
    "colab": {
     "base_uri": "https://localhost:8080/"
    },
    "id": "MoQGLSR7aKxy",
    "outputId": "f45b0710-9b94-4fb2-fc1b-6c12c1a3c6fc"
   },
   "outputs": [
    {
     "name": "stdout",
     "output_type": "stream",
     "text": [
      "[2, 4]\n"
     ]
    }
   ],
   "source": [
    "ls = [1,2,3,4,5]\n",
    "print( ls[::2] ) # get elements with even indeces"
   ]
  },
  {
   "cell_type": "markdown",
   "metadata": {
    "id": "I3puTMqsaKx4"
   },
   "source": [
    "### More Sequence Operations"
   ]
  },
  {
   "cell_type": "code",
   "execution_count": null,
   "metadata": {
    "colab": {
     "base_uri": "https://localhost:8080/"
    },
    "id": "6WsqlRwmaKx6",
    "outputId": "5fe9101d-2f76-482f-babc-8b38d8a1d4fb"
   },
   "outputs": [
    {
     "name": "stdout",
     "output_type": "stream",
     "text": [
      "(1, 1, 1) (1, 1, 1, 2, 2)\n",
      "[1, 1, 1] [1, 1, 1, 2, 2]\n",
      "2\n",
      "2\n",
      "7\n",
      "7\n",
      "3\n",
      "3\n",
      "3\n",
      "3\n"
     ]
    }
   ],
   "source": [
    "tup1 = 3*(1,) # Notice that tuple of length 1 needs comma!\n",
    "ls1=3*[1]\n",
    "tup2 = tup1 + (2,2) # Concatenate the two elements\n",
    "ls2=ls1+[2,2]\n",
    "print(tup1, tup2)\n",
    "print (ls1,ls2)\n",
    "\n",
    "print( max(tup2) ) # or min()\n",
    "print (max(ls2))\n",
    "print( sum(tup2) )\n",
    "print (sum(ls2))\n",
    "print( tup2.count(1) )\n",
    "print(ls2.count(1))\n",
    "print(tup2.index(2))\n",
    "print(ls2.index(2))"
   ]
  },
  {
   "cell_type": "code",
   "execution_count": null,
   "metadata": {
    "colab": {
     "base_uri": "https://localhost:8080/"
    },
    "id": "294gGLrj1s8s",
    "outputId": "fdf26d01-88c9-495b-f59a-e117c8d563ec"
   },
   "outputs": [
    {
     "data": {
      "text/plain": [
       "3"
      ]
     },
     "execution_count": 41,
     "metadata": {
      "tags": []
     },
     "output_type": "execute_result"
    }
   ],
   "source": [
    "3*(1)"
   ]
  },
  {
   "cell_type": "markdown",
   "metadata": {
    "id": "f0NCDQiOaKyD"
   },
   "source": [
    "## Mutability\n",
    "\n",
    "* Immutable types: `str`, `tuple` (as well as all scalars)\n",
    "* Mutable types: `list`, `set`, `dict`\n",
    "\n",
    "**Objects of mutable types can be modified once they are created.**"
   ]
  },
  {
   "cell_type": "code",
   "execution_count": null,
   "metadata": {
    "colab": {
     "base_uri": "https://localhost:8080/"
    },
    "id": "eOBUdDiDaKyE",
    "outputId": "73fedbf2-f379-413d-e428-f5a96fb32692"
   },
   "outputs": [
    {
     "name": "stdout",
     "output_type": "stream",
     "text": [
      "{1: 'a', 2: 'b', 3: 'c'}\n",
      "[1, 2, 3, 4, 5]\n"
     ]
    }
   ],
   "source": [
    "dic = {1:'a', 2:'b'}\n",
    "dic[3] = 'c'\n",
    "print(dic)\n",
    "\n",
    "ls = [5, 4, 1, 3, 2]\n",
    "ls.sort()\n",
    "print(ls)"
   ]
  },
  {
   "cell_type": "markdown",
   "metadata": {
    "id": "mECSW7-vaKyL"
   },
   "source": [
    "### Mutability Can Be Quite Convenient\n",
    "\n",
    "There are several useful list methods, see http://docs.python.org/3/library/stdtypes.html#mutable-sequence-types:\n",
    "\n",
    "* `L.append(e)`\n",
    "* `L.insert(i, e)`\n",
    "* `L.remove(e)`\n",
    "* `L.extend(L1)`\n",
    "* `L.pop(i)`\n",
    "* `L.sort()`\n",
    "* `L.reverse()`"
   ]
  },
  {
   "cell_type": "code",
   "execution_count": null,
   "metadata": {
    "colab": {
     "base_uri": "https://localhost:8080/"
    },
    "id": "27Gq-lAMaKyM",
    "outputId": "70b2e067-6d1e-445f-aeca-0033c1148f45"
   },
   "outputs": [
    {
     "name": "stdout",
     "output_type": "stream",
     "text": [
      "[1, 2, 3, 4]\n",
      "[1, 2, 3, 4, 5, 6, 7, 8, 9, 10]\n"
     ]
    }
   ],
   "source": [
    "L1 = [1, 2, 3]\n",
    "L1.append(4)\n",
    "print(L1)\n",
    "L1.extend([5, 6, 7, 8, 9, 10])\n",
    "print(L1)"
   ]
  },
  {
   "cell_type": "markdown",
   "metadata": {
    "id": "crtT9zsSaKyT"
   },
   "source": [
    "### Mutability Can Also Be Dangerous"
   ]
  },
  {
   "cell_type": "code",
   "execution_count": null,
   "metadata": {
    "colab": {
     "base_uri": "https://localhost:8080/"
    },
    "id": "m-X7ZT1IaKyW",
    "outputId": "59619d67-5962-419f-87f9-32d3ae2a3fab"
   },
   "outputs": [
    {
     "name": "stdout",
     "output_type": "stream",
     "text": [
      "[1, 2, 3, [4, 5, 6, 7]]\n",
      "[4, 5, 6, 7]\n",
      "[4, 5, 6, 7, 8, 9, 10]\n",
      "[1, 2, 3, [4, 5, 6, 7, 8, 9, 10]]\n"
     ]
    }
   ],
   "source": [
    "L1 = [1, 2, 3]\n",
    "L2 = [4, 5, 6, 7]\n",
    "\n",
    "L1.append(L2)\n",
    "print(L1)\n",
    "print(L2)\n",
    "\n",
    "L2.extend([8, 9, 10])\n",
    "print(L2)\n",
    "print(L1)"
   ]
  },
  {
   "cell_type": "markdown",
   "metadata": {
    "id": "9L1tICv7aKyd"
   },
   "source": [
    "### Aliasing vs. Cloning\n",
    "\n",
    "![Aliasing](https://runestone.academy/ns/books/published/fopp/_images/refdiag4.png \"Aliasing\")"
   ]
  },
  {
   "cell_type": "code",
   "execution_count": null,
   "metadata": {
    "colab": {
     "base_uri": "https://localhost:8080/"
    },
    "id": "MPeeInmSaKyh",
    "outputId": "f1a1c346-57e1-4351-c39e-fd8587b48431"
   },
   "outputs": [
    {
     "name": "stdout",
     "output_type": "stream",
     "text": [
      "[1, 2, 3] [1, 2, 3] [1, 2, 3]\n",
      "[3, 2, 1] [1, 2, 3] [3, 2, 1]\n"
     ]
    }
   ],
   "source": [
    "L1 = [1, 2, 3]\n",
    "L2 = L1[:]  # Using [:] is one way to clone\n",
    "L3 = L1\n",
    "print(L1,L2,L3)\n",
    "\n",
    "L1.reverse()\n",
    "print(L1,L2,L3)"
   ]
  },
  {
   "cell_type": "markdown",
   "metadata": {
    "id": "xNw2CSI9pB6B"
   },
   "source": [
    "## List Methods"
   ]
  },
  {
   "cell_type": "markdown",
   "metadata": {
    "id": "TDEg5fttaKyo"
   },
   "source": [
    "### List Methods: `append` vs. `extend`"
   ]
  },
  {
   "cell_type": "code",
   "execution_count": null,
   "metadata": {
    "id": "f1ozRZa3aKyr",
    "outputId": "98aa6ec5-7374-4a43-f297-7d08359d0200"
   },
   "outputs": [
    {
     "name": "stdout",
     "output_type": "stream",
     "text": [
      "[1, 2, 3, 4, 5]\n",
      "[1, 2, 3, 4, 5, 8, 7, 6]\n"
     ]
    }
   ],
   "source": [
    "mylist = [1, 2, 3, 4]\n",
    "mylist.append(5)\n",
    "print(mylist)\n",
    "\n",
    "mylist.extend([8, 7, 6])\n",
    "print(mylist)"
   ]
  },
  {
   "cell_type": "markdown",
   "metadata": {
    "id": "AvPNyTVCaKyz"
   },
   "source": [
    "### List Methods: `remove` vs. `pop`"
   ]
  },
  {
   "cell_type": "code",
   "execution_count": null,
   "metadata": {
    "colab": {
     "base_uri": "https://localhost:8080/"
    },
    "id": "7wl_1Ib-aKy2",
    "outputId": "0884a3d2-9d6b-4713-a2d8-0831c588fe6f"
   },
   "outputs": [
    {
     "name": "stdout",
     "output_type": "stream",
     "text": [
      "[2, 3, 4]\n",
      "[1, 3, 4]\n"
     ]
    }
   ],
   "source": [
    "mylist = [1, 2, 3, 4]\n",
    "mylist.remove(1)\n",
    "print(mylist)\n",
    "\n",
    "mylist = [1, 2, 3, 4]\n",
    "mylist.pop(1)\n",
    "print(mylist)"
   ]
  },
  {
   "cell_type": "markdown",
   "metadata": {
    "id": "9bqxCKnhaKy-"
   },
   "source": [
    "### List Methods: `L.sort()` vs. `sorted(L)`"
   ]
  },
  {
   "cell_type": "code",
   "execution_count": null,
   "metadata": {
    "id": "-xz9Fa6baKy_",
    "outputId": "66baff13-34fd-4e71-98c6-96bdb0fdb672"
   },
   "outputs": [
    {
     "name": "stdout",
     "output_type": "stream",
     "text": [
      "[1, 2, 3, 4, 5]\n",
      "[10, 9, 6, 8, 7]\n",
      "[10, 9, 6, 8, 7] [6, 7, 8, 9, 10]\n"
     ]
    }
   ],
   "source": [
    "mylist = [4, 5, 2, 1, 3]\n",
    "mylist.sort()  # Sorts in-place. It is more efficient but overwrites the input.\n",
    "print(mylist)\n",
    "\n",
    "mylist = [10, 9, 6, 8, 7]\n",
    "sorted(mylist)\n",
    "print(mylist)\n",
    "\n",
    "newlist = sorted(mylist)  # Creates a new list that is sorted, not changing the original.\n",
    "print(mylist, newlist)"
   ]
  },
  {
   "cell_type": "markdown",
   "metadata": {
    "id": "0niypoOUaKzJ"
   },
   "source": [
    "# Summary: Data Types in Python\n",
    "\n",
    "\n",
    "| Type     | Scalar     | Mutability | Order   \n",
    "| :------: |:----------:|:----------:| :---------:\n",
    "| `int`    | scalar     | immutable  |             \n",
    "| `float`  | scalar     | immutable  |  \n",
    "| `bool`   | scalar     | immutable  |\n",
    "| `None`   | scalar     | immutable  |\n",
    "| `str`    | non-scalar | immutable  | ordered\n",
    "| `tuple`  | non-scalar | immutable  | ordered\n",
    "| `list`   | non-scalar | mutable    | ordered\n",
    "| `set`    | non-scalar | mutable    | unordered\n",
    "| `dict`   | non-scalar | mutable    | unordered\n",
    "\n",
    "* Objects have types\n",
    "* Objects have methods"
   ]
  },
  {
   "cell_type": "code",
   "execution_count": null,
   "metadata": {
    "colab": {
     "base_uri": "https://localhost:8080/"
    },
    "executionInfo": {
     "elapsed": 6,
     "status": "ok",
     "timestamp": 1710222521745,
     "user": {
      "displayName": "Mahdi Norouzi",
      "userId": "07836438151054565824"
     },
     "user_tz": 240
    },
    "id": "RZiN4bO4M9fT",
    "outputId": "92fe9f9e-fc77-4934-f3b7-fa27ebff800e"
   },
   "outputs": [
    {
     "data": {
      "text/plain": [
       "True"
      ]
     },
     "execution_count": 1,
     "metadata": {},
     "output_type": "execute_result"
    }
   ],
   "source": [
    "3>1"
   ]
  },
  {
   "cell_type": "code",
   "execution_count": null,
   "metadata": {
    "executionInfo": {
     "elapsed": 338,
     "status": "ok",
     "timestamp": 1710222798766,
     "user": {
      "displayName": "Mahdi Norouzi",
      "userId": "07836438151054565824"
     },
     "user_tz": 240
    },
    "id": "bzaawd07OL-r"
   },
   "outputs": [],
   "source": [
    "a=[1,2,3,4]"
   ]
  },
  {
   "cell_type": "code",
   "execution_count": null,
   "metadata": {
    "colab": {
     "base_uri": "https://localhost:8080/"
    },
    "executionInfo": {
     "elapsed": 332,
     "status": "ok",
     "timestamp": 1710222805559,
     "user": {
      "displayName": "Mahdi Norouzi",
      "userId": "07836438151054565824"
     },
     "user_tz": 240
    },
    "id": "mFnUQQIjOP1k",
    "outputId": "b489e313-053d-4eaf-fb68-0d6bd10475a9"
   },
   "outputs": [
    {
     "data": {
      "text/plain": [
       "[1, 2, 3, 4]"
      ]
     },
     "execution_count": 3,
     "metadata": {},
     "output_type": "execute_result"
    }
   ],
   "source": [
    "a"
   ]
  },
  {
   "cell_type": "code",
   "execution_count": null,
   "metadata": {
    "colab": {
     "base_uri": "https://localhost:8080/"
    },
    "executionInfo": {
     "elapsed": 349,
     "status": "ok",
     "timestamp": 1710222820106,
     "user": {
      "displayName": "Mahdi Norouzi",
      "userId": "07836438151054565824"
     },
     "user_tz": 240
    },
    "id": "4YLYGi59OSzL",
    "outputId": "eb793495-37c9-48b6-c4f5-b422d1222963"
   },
   "outputs": [
    {
     "data": {
      "text/plain": [
       "list"
      ]
     },
     "execution_count": 4,
     "metadata": {},
     "output_type": "execute_result"
    }
   ],
   "source": [
    "type(a)"
   ]
  },
  {
   "cell_type": "code",
   "execution_count": null,
   "metadata": {
    "executionInfo": {
     "elapsed": 346,
     "status": "ok",
     "timestamp": 1710222843852,
     "user": {
      "displayName": "Mahdi Norouzi",
      "userId": "07836438151054565824"
     },
     "user_tz": 240
    },
    "id": "97JPqSEnOYXL"
   },
   "outputs": [],
   "source": [
    "b=5"
   ]
  },
  {
   "cell_type": "code",
   "execution_count": null,
   "metadata": {
    "colab": {
     "base_uri": "https://localhost:8080/"
    },
    "executionInfo": {
     "elapsed": 336,
     "status": "ok",
     "timestamp": 1710222851071,
     "user": {
      "displayName": "Mahdi Norouzi",
      "userId": "07836438151054565824"
     },
     "user_tz": 240
    },
    "id": "H_qnNoXpOacP",
    "outputId": "73d8d13c-a8a4-4e28-8b28-3c827f9a96a0"
   },
   "outputs": [
    {
     "data": {
      "text/plain": [
       "int"
      ]
     },
     "execution_count": 6,
     "metadata": {},
     "output_type": "execute_result"
    }
   ],
   "source": [
    "type(b)"
   ]
  },
  {
   "cell_type": "code",
   "execution_count": null,
   "metadata": {
    "executionInfo": {
     "elapsed": 2,
     "status": "ok",
     "timestamp": 1710222905557,
     "user": {
      "displayName": "Mahdi Norouzi",
      "userId": "07836438151054565824"
     },
     "user_tz": 240
    },
    "id": "JPi-2wD7Onhx"
   },
   "outputs": [],
   "source": [
    "c=b+5"
   ]
  },
  {
   "cell_type": "code",
   "execution_count": null,
   "metadata": {
    "colab": {
     "base_uri": "https://localhost:8080/"
    },
    "executionInfo": {
     "elapsed": 343,
     "status": "ok",
     "timestamp": 1710222910064,
     "user": {
      "displayName": "Mahdi Norouzi",
      "userId": "07836438151054565824"
     },
     "user_tz": 240
    },
    "id": "jWAtm8TOOpho",
    "outputId": "e0c4cf56-7a14-4dee-86c9-e9bd276bfeec"
   },
   "outputs": [
    {
     "data": {
      "text/plain": [
       "10"
      ]
     },
     "execution_count": 8,
     "metadata": {},
     "output_type": "execute_result"
    }
   ],
   "source": [
    "c"
   ]
  }
 ],
 "metadata": {
  "celltoolbar": "Slideshow",
  "colab": {
   "provenance": []
  },
  "kernelspec": {
   "display_name": "Python 3",
   "language": "python",
   "name": "python3"
  },
  "language_info": {
   "codemirror_mode": {
    "name": "ipython",
    "version": 3
   },
   "file_extension": ".py",
   "mimetype": "text/x-python",
   "name": "python",
   "nbconvert_exporter": "python",
   "pygments_lexer": "ipython3",
   "version": "3.8.19"
  }
 },
 "nbformat": 4,
 "nbformat_minor": 0
}
