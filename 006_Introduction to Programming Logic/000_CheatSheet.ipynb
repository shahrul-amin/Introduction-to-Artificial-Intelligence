{
  "cells": [
    {
      "cell_type": "markdown",
      "metadata": {
        "id": "Y3jWV__PE6L4"
      },
      "source": [
        "# Cheat Sheet"
      ]
    },
    {
      "cell_type": "markdown",
      "metadata": {
        "id": "JPOfGW_b4-Wz"
      },
      "source": [
        "## <font color='magenta'>Data Types </font>\n",
        "\n",
        "**Numerical Data Types**\n",
        "* Integer: 2,3,101 `a_number=42`\n",
        "* Float: 2.0,1.90 `n2=717.89`\n",
        "* complex: 3+2j, 1.2+6j `complex1=3.4+6.8j`\n",
        "\n",
        "**Combinational Data Types**\n",
        "* String: \"Hello World!\", 'book' `a_string=\"This is interesting!\"`, `str1='Apple'`\n",
        "* Lists: `ls=[1,2,3,4,'a']`\n",
        "* Tuple: `1tp=(1,2,3,'b')`\n",
        "\n",
        "**Other** \n",
        "* None type: None `a2=None`\n",
        "* Boolean; True or False `2>1`, `True`, `a==4`\n"
      ]
    },
    {
      "cell_type": "markdown",
      "metadata": {
        "id": "_qhQiV7PM0r0"
      },
      "source": [
        "## <font color='magenta'>Functions</font>\n",
        "\n",
        "**General Functions:**\n",
        "\n",
        "* Find **type** of a variable or object `type(a)`, `type(2.3)`\n",
        "* **Print** an object or multiple objects on screen `print('Bye')`, `print(a, 2)`, `print(\"My grade in the course was\", 100)`\n",
        "* Ask a user to **input** something (it will be always string) `user_input=input('how old are you')`\n",
        "* Find number of elements(**Length**) in Strings, lists or Tuples `len('Hello')`, `len([1,2,3])`\n",
        "* Find **min, max or sum** of the elements in a list or tuple `min([3,-1,2])`\n",
        "* **Sort** tuple or list `sorted([3,4,-1,6,7])`\n",
        "\n",
        "**Data Type Conversion Functions:**\n",
        "* Convert float or string to int `int(2.3)`, `int('2')`\n",
        "* Convert int or string to float `float(4)`, `float('34')`\n",
        "* Convert int, float or string to complex `complex(4)`, `complex(3.2)`, `complex('12')`\n",
        "* Convert int, float or complex to string `str(2)`\n",
        "* Convert tuple to list `list((1,2,3,4,'apple'))` >> `[1, 2, 3, 4, 'apple']`\n",
        "* Convert list to tuple `tuple([5,1,2,'test'])` >> `(5, 1, 2, 'test')`"
      ]
    },
    {
      "cell_type": "markdown",
      "metadata": {
        "id": "q-EKB85z4IbT"
      },
      "source": [
        "## <font color='magenta'> Methods </font>\n",
        "\n",
        "**String Methods**\n",
        "* `S.upper()` – change to upper case\n",
        "* `S.lower()` – change to lower case\n",
        "* `S.capitalize()` – capitalize the first word\n",
        "* `S.find(S1)` – return the index of the first instance of S1\n",
        "* `S.replace(S1, S2)` – find all instances of S1 and change to S2\n",
        "* `S.strip()` – remove whitespace characters from a string \n",
        "\n",
        "We can merge strings by adding them: `\"The average was \"+str(50.4)`  \n",
        "We can multiply a string by number `\"Bye\"*2`\n",
        "\n",
        "**List Methods**\n",
        "\n",
        "* `L.count(element)` count element in list L\n",
        "* `L.index(element)` returns the index of element in list L\n",
        "* `L.append(element)` append element to the end of list L\n",
        "* `L.extend(L1)` concatenate list L1 to the end of list L\n",
        "* `L.insert(i, element)` insert element to the index i in list L\n",
        "* `L.remove(element)` remove element from list L\n",
        "* `L.pop(i)` remove element with index i from list L\n",
        "* `L.sort()` sort elements of the list L in ascending order\n",
        "* `L.reverse()` reverse the order of elements in list L"
      ]
    },
    {
      "cell_type": "markdown",
      "metadata": {
        "id": "zW2VguOX5gqd"
      },
      "source": [
        "## <font color='magenta'> Numerical Operations </font>\n",
        "\n",
        "* `+` &nbsp;&nbsp; addition\n",
        "* `-` &nbsp;&nbsp; subtraction\n",
        "* `*` &nbsp;&nbsp; multiplication\n",
        "* `/` &nbsp;&nbsp; division\n",
        "* `%` &nbsp;&nbsp; modulus (give us remainder)\n",
        "* `//` &nbsp;&nbsp; floor division (give us quotient) \n",
        "* `**` &nbsp;&nbsp; exponent (to the power of)"
      ]
    },
    {
      "cell_type": "markdown",
      "metadata": {
        "id": "9PVu_ldW4-XN"
      },
      "source": [
        "## <font color='magenta'>Comparison Operators - Checks</font>\n",
        "\n",
        "* `==` &nbsp;&nbsp; equals\n",
        "* `!=` &nbsp;&nbsp; does not equal\n",
        "* `>` &nbsp;&nbsp; is greater than\n",
        "* `<=` &nbsp;&nbsp; is less than or equal, etc."
      ]
    },
    {
      "cell_type": "markdown",
      "metadata": {
        "id": "H68ejbzy6Ae8"
      },
      "source": [
        "## Control the sequence of operations (Control flow)"
      ]
    },
    {
      "cell_type": "markdown",
      "metadata": {
        "id": "zORi-pf-M_kj"
      },
      "source": [
        "### 1) While loop\n",
        "```\n",
        "while *Boolean expression*:\n",
        "    *block of code*\n",
        "```"
      ]
    },
    {
      "cell_type": "code",
      "execution_count": null,
      "metadata": {
        "colab": {
          "base_uri": "https://localhost:8080/"
        },
        "id": "r-PjCR9a5f8o",
        "outputId": "14d4681d-1b2b-4b2e-c267-832b61fb937e"
      },
      "outputs": [
        {
          "name": "stdout",
          "output_type": "stream",
          "text": [
            "1\n",
            "2\n",
            "3\n",
            "4\n",
            "5\n"
          ]
        }
      ],
      "source": [
        "a=0\n",
        "while (a<5):\n",
        "  a=a+1\n",
        "  print(a)"
      ]
    },
    {
      "cell_type": "markdown",
      "metadata": {
        "id": "1x5vbX3kwc5o"
      },
      "source": [
        "### 2) For loop\n",
        "```\n",
        "for *element* in *sequence*:\n",
        "    *block of code*\n",
        "```"
      ]
    },
    {
      "cell_type": "code",
      "execution_count": null,
      "metadata": {
        "colab": {
          "base_uri": "https://localhost:8080/"
        },
        "id": "PD6G0KMjwc51",
        "outputId": "a62207ce-13f1-4278-939f-3d5096a42182"
      },
      "outputs": [
        {
          "name": "stdout",
          "output_type": "stream",
          "text": [
            "1-4-9-16-25-"
          ]
        }
      ],
      "source": [
        "mylist=[1, 2, 3, 4, 5]\n",
        "\n",
        "for item in mylist:\n",
        "  print(item**2, end='-')\n",
        "    "
      ]
    }
  ],
  "metadata": {
    "celltoolbar": "Slideshow",
    "colab": {
      "provenance": []
    },
    "kernelspec": {
      "display_name": "Python [default]",
      "language": "python",
      "name": "python3"
    },
    "language_info": {
      "codemirror_mode": {
        "name": "ipython",
        "version": 3
      },
      "file_extension": ".py",
      "mimetype": "text/x-python",
      "name": "python",
      "nbconvert_exporter": "python",
      "pygments_lexer": "ipython3",
      "version": "3.5.3"
    }
  },
  "nbformat": 4,
  "nbformat_minor": 0
}
