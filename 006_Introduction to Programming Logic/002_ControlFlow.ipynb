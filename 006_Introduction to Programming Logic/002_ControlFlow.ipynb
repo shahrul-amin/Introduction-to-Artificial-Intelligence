{
 "cells": [
  {
   "cell_type": "code",
   "execution_count": 1,
   "metadata": {
    "colab": {
     "base_uri": "https://localhost:8080/"
    },
    "executionInfo": {
     "elapsed": 6,
     "status": "ok",
     "timestamp": 1679563030094,
     "user": {
      "displayName": "Mahdi Norouzi",
      "userId": "07836438151054565824"
     },
     "user_tz": 240
    },
    "id": "HHtG8JAkvURc",
    "outputId": "3f66958d-7df9-477d-a2db-9578f4b75829"
   },
   "outputs": [
    {
     "name": "stdout",
     "output_type": "stream",
     "text": [
      "17 3\n",
      "17 3\n",
      "14 3\n",
      "11 3\n",
      "8 3\n",
      "5 3\n"
     ]
    }
   ],
   "source": [
    "a=17\n",
    "\n",
    "b=3\n",
    "\n",
    "print(a,b)\n",
    "\n",
    "#if a>b:\n",
    "#  a=a-b\n",
    "\n",
    "#print(a,b)\n",
    "\n",
    "#if a>b:\n",
    "#  a=a-b\n",
    "\n",
    "#print(a,b)\n",
    "\n",
    "while a>b:\n",
    "  print(a,b)\n",
    "  a=a-b\n",
    "  \n"
   ]
  },
  {
   "cell_type": "code",
   "execution_count": 2,
   "metadata": {
    "colab": {
     "base_uri": "https://localhost:8080/"
    },
    "executionInfo": {
     "elapsed": 403,
     "status": "ok",
     "timestamp": 1679564197284,
     "user": {
      "displayName": "Mahdi Norouzi",
      "userId": "07836438151054565824"
     },
     "user_tz": 240
    },
    "id": "FJ7_94q3xiMV",
    "outputId": "0e5fe3f8-e591-474a-8bfe-d1c68f410792"
   },
   "outputs": [
    {
     "name": "stdout",
     "output_type": "stream",
     "text": [
      "qutient=  6\n",
      "reminder=  0\n",
      "finished!\n"
     ]
    }
   ],
   "source": [
    "a=18\n",
    "\n",
    "b=3\n",
    "\n",
    "#print(a,b)\n",
    "q=0\n",
    "while a>=b:\n",
    "  #print(a,b)\n",
    "  a=a-b\n",
    "  q=q+1\n",
    "\n",
    "print(\"qutient= \", q)\n",
    "print(\"reminder= \", a)\n",
    "print(\"finished!\")"
   ]
  },
  {
   "cell_type": "code",
   "execution_count": 3,
   "metadata": {
    "colab": {
     "base_uri": "https://localhost:8080/"
    },
    "executionInfo": {
     "elapsed": 870,
     "status": "ok",
     "timestamp": 1679564871784,
     "user": {
      "displayName": "Mahdi Norouzi",
      "userId": "07836438151054565824"
     },
     "user_tz": 240
    },
    "id": "8-XF4_NK1EY_",
    "outputId": "bb96a5a2-fa2b-4c08-b95b-a559c23274d6"
   },
   "outputs": [
    {
     "name": "stdout",
     "output_type": "stream",
     "text": [
      "3 0\n",
      "2 5\n",
      "1 10\n",
      "15\n"
     ]
    }
   ],
   "source": [
    "a=5\n",
    "\n",
    "b=3\n",
    "\n",
    "\n",
    "output=0\n",
    "\n",
    "while b>0:\n",
    "  print(b,output)\n",
    "  output=output+a\n",
    "  b=b-1\n",
    "\n",
    "print(output)"
   ]
  },
  {
   "cell_type": "markdown",
   "metadata": {
    "id": "IgjhNdH_wc49"
   },
   "source": [
    "## Control Flow\n",
    "\n",
    "* Control flow is the order in which statements are executed or evaluated\n",
    "* In Python, there are three main categories of control flow:\n",
    "  * **Branches** (conditional statements) – execute only if some condition is met\n",
    "  * **Loops** (iteration) – execute repeatedly \n",
    "  * Function calls – execute a set of distant statements and return back to the control flow"
   ]
  },
  {
   "cell_type": "markdown",
   "metadata": {
    "id": "tFIyuciIwc4_"
   },
   "source": [
    "## Conditional Statements\n",
    "\n",
    "![Conditional statements](https://images.theengineeringprojects.com/image/webp/2022/03/2-27.jpg.webp?ssl=1 \"Conditional statements\")"
   ]
  },
  {
   "cell_type": "markdown",
   "metadata": {
    "id": "0ENhiqyqwc5A"
   },
   "source": [
    "## Conditional Statements: `if`\n",
    "\n",
    "```\n",
    "if *Boolean expression*:\n",
    "    *block of code*\n",
    "```"
   ]
  },
  {
   "cell_type": "code",
   "execution_count": 4,
   "metadata": {
    "colab": {
     "base_uri": "https://localhost:8080/",
     "height": 35
    },
    "id": "kJoAXL1pwc5B",
    "outputId": "74e4ff8f-ff8e-406b-afac-66886efafd2f"
   },
   "outputs": [],
   "source": [
    "x = input('How old are you? ')\n",
    "if int(x) >= 25:\n",
    "  print(\"Ah, I see, you are a mature student.\")\n",
    "else:\n",
    "  pass\n",
    "    "
   ]
  },
  {
   "cell_type": "markdown",
   "metadata": {
    "id": "7JiUSQsHwc5H"
   },
   "source": [
    "## Indentation in Python Code\n",
    "\n",
    "* Indentation is semantically meaningful in Python\n",
    "* Obviously(!), tabs are preferable\n",
    "* However, it does not really matter in Colab (or Jupyter) as it converts tabs to spaces by default"
   ]
  },
  {
   "cell_type": "markdown",
   "metadata": {
    "id": "l8U7lr4Pwc5K"
   },
   "source": [
    "## Conditional Statements: `if`–`else`\n",
    "\n",
    "```\n",
    "if *Boolean expression*:\n",
    "    *block of code*\n",
    "else:\n",
    "    *block of code*\n",
    "```"
   ]
  },
  {
   "cell_type": "code",
   "execution_count": 5,
   "metadata": {
    "colab": {
     "base_uri": "https://localhost:8080/",
     "height": 35
    },
    "id": "mFdG7C0Swc5L",
    "outputId": "26c2a232-9fc5-4f22-e023-076657fde149"
   },
   "outputs": [
    {
     "name": "stdout",
     "output_type": "stream",
     "text": [
      "Even\n",
      "Problem solved!\n"
     ]
    }
   ],
   "source": [
    "x = 6\n",
    "if x%2==0:\n",
    "    print(\"Even\")\n",
    "else:\n",
    "    print(\"Odd\")    \n",
    "print('Problem solved!')\n"
   ]
  },
  {
   "cell_type": "markdown",
   "metadata": {
    "id": "bDdYNTG-wc5S"
   },
   "source": [
    "## Conditional Statements: `if`–`elif`–`else`\n",
    "\n",
    "```\n",
    "if *Boolean expression*:\n",
    "    *block of code*\n",
    "elif *Boolean expression*:\n",
    "    *block of code*\n",
    "else:\n",
    "    *block of code*\n",
    "```"
   ]
  },
  {
   "cell_type": "code",
   "execution_count": 6,
   "metadata": {
    "id": "pbo4E9TQwc5T",
    "outputId": "a2c97230-729d-49a5-d4ff-35f4b8141bb5"
   },
   "outputs": [
    {
     "name": "stdout",
     "output_type": "stream",
     "text": [
      "Negative\n"
     ]
    }
   ],
   "source": [
    "x = -2\n",
    "if x > 0:\n",
    "    print('Positive')\n",
    "elif x < 0:\n",
    "    print('Negative')\n",
    "else:\n",
    "    print('Zero')\n",
    "    "
   ]
  },
  {
   "cell_type": "markdown",
   "metadata": {
    "id": "2cyFArmpwc5Z"
   },
   "source": [
    "## Conditional Statements Are Evaluated Sequentially\n",
    "\n",
    "Hence, it makes sense to start with the most likely one. This could make your code faster! "
   ]
  },
  {
   "cell_type": "code",
   "execution_count": 7,
   "metadata": {
    "colab": {
     "base_uri": "https://localhost:8080/",
     "height": 54
    },
    "id": "8i9co9BWwc5b",
    "outputId": "81359ae8-f234-47bf-af65-92e45ca985b7"
   },
   "outputs": [
    {
     "name": "stdout",
     "output_type": "stream",
     "text": [
      "You are quite far. Try again.\n"
     ]
    }
   ],
   "source": [
    "correct = 25\n",
    "\n",
    "guess = int(input(\"Guess which number from 1 to 100 I'm thinking of? \"))\n",
    "\n",
    "if ((guess > correct + 10) or (guess < correct - 10)):\n",
    "    print(\"You are quite far. Try again.\")\n",
    "elif guess != correct:\n",
    "    print(\"You are very close. Try again.\")\n",
    "else:\n",
    "    print(\"That's right!\")\n",
    "    "
   ]
  },
  {
   "cell_type": "markdown",
   "metadata": {
    "id": "mYdD55Vgwc5f"
   },
   "source": [
    "## Nested Conditional Statements\n",
    "\n",
    "Nesting conditional statements is often a question of style. As always, clarity and speed should be your major considerations!"
   ]
  },
  {
   "cell_type": "code",
   "execution_count": 8,
   "metadata": {
    "colab": {
     "base_uri": "https://localhost:8080/",
     "height": 35
    },
    "id": "NRMHVVc_wc5g",
    "outputId": "c11ca933-59cf-4838-98f9-b6f914a2c0b3"
   },
   "outputs": [
    {
     "name": "stdout",
     "output_type": "stream",
     "text": [
      "I don't now what this is.\n"
     ]
    }
   ],
   "source": [
    "x = []\n",
    "\n",
    "if type(x)==int or type(x)==float:\n",
    "    if x > 0:\n",
    "        print('This is a non-negative number')\n",
    "    elif x<0:\n",
    "        print('This is a negative number')\n",
    "    else:\n",
    "        print('number is zero')\n",
    "elif type(x)==str:\n",
    "    print('This is a string.')\n",
    "else:\n",
    "    print(\"I don't now what this is.\")\n",
    "    "
   ]
  },
  {
   "cell_type": "markdown",
   "metadata": {
    "id": "353YbkJVwc5k"
   },
   "source": [
    "## Iteration\n",
    "\n",
    "![Iteration](https://www.rookieslab.com/assets/documentation/iteration-in-python.jpg \"Iteration\")"
   ]
  },
  {
   "cell_type": "markdown",
   "metadata": {
    "id": "MkByqWaZwc5l"
   },
   "source": [
    "## Iteration: `while` vs. `for`"
   ]
  },
  {
   "cell_type": "markdown",
   "metadata": {
    "id": "NrTl4BeKwc5n"
   },
   "source": [
    "```\n",
    "while *Boolean expression*:\n",
    "    *block of code*\n",
    "```"
   ]
  },
  {
   "cell_type": "markdown",
   "metadata": {
    "id": "1x5vbX3kwc5o"
   },
   "source": [
    "```\n",
    "for *element* in *sequence*:\n",
    "    *block of code*\n",
    "```"
   ]
  },
  {
   "cell_type": "markdown",
   "metadata": {
    "id": "bH3bmZ6Awc5o"
   },
   "source": [
    "## Iteration: `while` with decrementing function\n",
    "\n",
    "The decrementing function is a function that maps variables to an integer that is initially non-negative but that decreases with every pass through the loop; the loop ends when the integer is 0."
   ]
  },
  {
   "cell_type": "code",
   "execution_count": 9,
   "metadata": {
    "colab": {
     "base_uri": "https://localhost:8080/",
     "height": 109
    },
    "id": "_4cSoO6Fwc5p",
    "outputId": "96390559-a3b1-4746-ae94-f619583917a6"
   },
   "outputs": [
    {
     "name": "stdout",
     "output_type": "stream",
     "text": [
      "2\n",
      "3\n",
      "4\n",
      "5\n",
      "6\n"
     ]
    }
   ],
   "source": [
    "# decrementing function: 5 - x\n",
    "x = 1\n",
    "while x <= 5:\n",
    "  x=x+1 \n",
    "  print(x)\n",
    "\n",
    "    \n",
    "    "
   ]
  },
  {
   "cell_type": "markdown",
   "metadata": {
    "id": "MPufv03jwc5u"
   },
   "source": [
    "## Iteration: `while` with conditional statements\n"
   ]
  },
  {
   "cell_type": "code",
   "execution_count": 10,
   "metadata": {
    "colab": {
     "base_uri": "https://localhost:8080/",
     "height": 127
    },
    "id": "bGFe1bdrwc5v",
    "outputId": "5817bf61-eb6d-40cc-9ad6-fc579d2bb29b"
   },
   "outputs": [
    {
     "name": "stdout",
     "output_type": "stream",
     "text": [
      "You are quite far. Try again.\n",
      "You are quite far. Try again.\n",
      "That's right!\n"
     ]
    }
   ],
   "source": [
    "correct = 25\n",
    "repeat = True\n",
    "\n",
    "while repeat:\n",
    "    guess = int(input(\"Guess which number from 1 to 100 I'm thinking of? \"))\n",
    "    \n",
    "    if guess > correct + 10 or guess < correct - 10:\n",
    "        print(\"You are quite far. Try again.\")\n",
    "    elif guess != correct:\n",
    "        print(\"You are very close. Try again.\")\n",
    "    else:\n",
    "        print(\"That's right!\")\n",
    "        repeat=False\n",
    "        "
   ]
  },
  {
   "cell_type": "markdown",
   "metadata": {
    "id": "IwEATiDpwc50"
   },
   "source": [
    "## Iteration: `for`\n",
    "\n",
    "```\n",
    "for *element* in *sequence*:\n",
    "    *block of code*\n",
    "```\n"
   ]
  },
  {
   "cell_type": "code",
   "execution_count": 11,
   "metadata": {
    "colab": {
     "base_uri": "https://localhost:8080/",
     "height": 35
    },
    "id": "PD6G0KMjwc51",
    "outputId": "f7c7315d-a959-4f7a-b954-6fcccd314983"
   },
   "outputs": [
    {
     "name": "stdout",
     "output_type": "stream",
     "text": [
      "1 2 3 4 5 "
     ]
    }
   ],
   "source": [
    "for i in [1, 2, 3, 4, 5]:\n",
    "    print(i, end=' ')\n",
    "    "
   ]
  },
  {
   "cell_type": "markdown",
   "metadata": {
    "id": "Lrqto9h8wc5-"
   },
   "source": [
    "## `range()`\n",
    "\n",
    "* In-built function that produces an immutable ordered non-scalar object of type `range`\n",
    "* Initiate as `range([start], stop, [step])`. If ommitted, `start = 0` and `step = 1`. \n",
    "* Function produces progression of integers `[start, start + step, start + 2*step, ..., start + i*step]` \n",
    "  * If step > 0, `start + i*step < stop` \n",
    "  * If step < 0, `start + i*step > stop` "
   ]
  },
  {
   "cell_type": "code",
   "execution_count": 12,
   "metadata": {
    "colab": {
     "base_uri": "https://localhost:8080/",
     "height": 35
    },
    "id": "5UAgkH7rwc5_",
    "outputId": "af42f0f5-1cb9-47fb-e2ab-5858df6888ef"
   },
   "outputs": [
    {
     "name": "stdout",
     "output_type": "stream",
     "text": [
      "[0, 1, 2, 3, 4, 5]\n"
     ]
    }
   ],
   "source": [
    "a=range(6)\n",
    "print(list(a))\n"
   ]
  },
  {
   "cell_type": "markdown",
   "metadata": {
    "id": "1sVHmYZgwc6C"
   },
   "source": [
    "## `range()` is essential for `for`-loops"
   ]
  },
  {
   "cell_type": "code",
   "execution_count": 13,
   "metadata": {
    "colab": {
     "base_uri": "https://localhost:8080/",
     "height": 35
    },
    "id": "vCsW4L5XMBh7",
    "outputId": "1edcc022-3d2e-4518-9265-96d82aa95a6e"
   },
   "outputs": [
    {
     "name": "stdout",
     "output_type": "stream",
     "text": [
      "3 5 7 9 "
     ]
    }
   ],
   "source": [
    "for iii in range(3,10,2):\n",
    "    print(iii, end=' ')"
   ]
  },
  {
   "cell_type": "code",
   "execution_count": 14,
   "metadata": {
    "id": "k9ppJQsTwc6G",
    "outputId": "e23d938c-d9f8-4da2-9034-50920644eb1b"
   },
   "outputs": [
    {
     "name": "stdout",
     "output_type": "stream",
     "text": [
      "0 1 2 3 4 5 \n",
      "1 2 3 4 5 \n",
      "1 3 5 "
     ]
    }
   ],
   "source": [
    "for i in range(6):\n",
    "    print(i, end=' ')\n",
    "print() \n",
    "\n",
    "for i in range(1,6):\n",
    "    print(i, end=' ')\n",
    "print()\n",
    "    \n",
    "for i in range(1,6,2):\n",
    "    print(i, end=' ')\n",
    "    "
   ]
  },
  {
   "cell_type": "markdown",
   "metadata": {
    "id": "y2bWrxwCwc6L"
   },
   "source": [
    "## Indexing Lists with `range(len(L))`"
   ]
  },
  {
   "cell_type": "code",
   "execution_count": 15,
   "metadata": {
    "colab": {
     "base_uri": "https://localhost:8080/",
     "height": 90
    },
    "id": "nBFJ_pxhwc6M",
    "outputId": "228f1c5a-5f28-4a15-b6bb-56b91a0d3b9d"
   },
   "outputs": [
    {
     "name": "stdout",
     "output_type": "stream",
     "text": [
      "index 0 : a\n",
      "index 1 : b\n",
      "index 2 : c\n",
      "index 3 : d\n"
     ]
    }
   ],
   "source": [
    "mylist = ['a', 'b', 'c', 'd']\n",
    "#for item in mylist:\n",
    "# print (item.capitalize(), end= ' ')\n",
    "for i in range(len(mylist)):\n",
    "     print('index', i, ':', mylist[i])\n",
    "        "
   ]
  },
  {
   "cell_type": "markdown",
   "metadata": {
    "id": "h0L8NF3zwc6Q"
   },
   "source": [
    "## Iteration: `break` and `continue`\n",
    "\n",
    "* Use `break` to exit a loop \n",
    "* Use `continue` to go directly to next iteration"
   ]
  },
  {
   "cell_type": "code",
   "execution_count": 16,
   "metadata": {
    "colab": {
     "base_uri": "https://localhost:8080/",
     "height": 90
    },
    "id": "pp4vnnwWwc6R",
    "outputId": "27ef670c-5a36-422a-faf0-da39fc0dc7a2"
   },
   "outputs": [
    {
     "name": "stdout",
     "output_type": "stream",
     "text": [
      "0\n",
      "i= 0\n",
      "1\n",
      "i= 1\n"
     ]
    }
   ],
   "source": [
    "for i in range(5):\n",
    "    if i==2:\n",
    "        break  # Go to the next iteration and skip the rest of the code\n",
    "    else:\n",
    "        print(i)\n",
    "    print (\"i=\",i)"
   ]
  }
 ],
 "metadata": {
  "celltoolbar": "Slideshow",
  "colab": {
   "provenance": []
  },
  "kernelspec": {
   "display_name": "Python 3",
   "language": "python",
   "name": "python3"
  },
  "language_info": {
   "codemirror_mode": {
    "name": "ipython",
    "version": 3
   },
   "file_extension": ".py",
   "mimetype": "text/x-python",
   "name": "python",
   "nbconvert_exporter": "python",
   "pygments_lexer": "ipython3",
   "version": "3.8.19"
  }
 },
 "nbformat": 4,
 "nbformat_minor": 0
}
